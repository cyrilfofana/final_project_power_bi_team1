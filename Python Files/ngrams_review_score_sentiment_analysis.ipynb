{
 "cells": [
  {
   "cell_type": "markdown",
   "metadata": {},
   "source": [
    "# The task here was to do a sentimental analysis and determine what was the reason for customers to give a high, neutral or a low rating."
   ]
  },
  {
   "cell_type": "code",
   "execution_count": null,
   "metadata": {
    "id": "cspw1CZ5Yz2L"
   },
   "outputs": [],
   "source": [
    "# importing all the libraries\n",
    "import pandas as pd\n",
    "import numpy as np\n",
    "from textblob import TextBlob\n",
    "import nltk, re, string, collections\n",
    "from nltk.util import ngrams"
   ]
  },
  {
   "cell_type": "code",
   "execution_count": null,
   "metadata": {
    "id": "g1jWHvvVZAGo"
   },
   "outputs": [],
   "source": [
    "# Loading the csv file containing all the reviews in a Dataframe\n",
    "df = pd.read_csv('/content/reviews_edited.csv')"
   ]
  },
  {
   "cell_type": "code",
   "execution_count": null,
   "metadata": {
    "colab": {
     "base_uri": "https://localhost:8080/",
     "height": 600
    },
    "id": "53MuPC4GZdmp",
    "outputId": "c282f2e9-8c9d-4cd1-b282-ab601c34b8b9"
   },
   "outputs": [
    {
     "data": {
      "text/html": [
       "\n",
       "  <div id=\"df-26cd3714-d6c4-4c84-a86f-802483adf681\" class=\"colab-df-container\">\n",
       "    <div>\n",
       "<style scoped>\n",
       "    .dataframe tbody tr th:only-of-type {\n",
       "        vertical-align: middle;\n",
       "    }\n",
       "\n",
       "    .dataframe tbody tr th {\n",
       "        vertical-align: top;\n",
       "    }\n",
       "\n",
       "    .dataframe thead th {\n",
       "        text-align: right;\n",
       "    }\n",
       "</style>\n",
       "<table border=\"1\" class=\"dataframe\">\n",
       "  <thead>\n",
       "    <tr style=\"text-align: right;\">\n",
       "      <th></th>\n",
       "      <th>Unnamed: 0</th>\n",
       "      <th>review_id</th>\n",
       "      <th>order_id</th>\n",
       "      <th>review_score</th>\n",
       "      <th>review_comment_title</th>\n",
       "      <th>review_comment_message</th>\n",
       "      <th>review_creation_date</th>\n",
       "      <th>review_answer_timestamp</th>\n",
       "      <th>translated_review</th>\n",
       "    </tr>\n",
       "  </thead>\n",
       "  <tbody>\n",
       "    <tr>\n",
       "      <th>0</th>\n",
       "      <td>0</td>\n",
       "      <td>7bc2406110b926393aa56f80a40eba40</td>\n",
       "      <td>73fc7af87114b39712e6da79b0a377eb</td>\n",
       "      <td>4</td>\n",
       "      <td>NaN</td>\n",
       "      <td>NaN</td>\n",
       "      <td>2018-01-18 00:00:00</td>\n",
       "      <td>2018-01-18 21:46:59</td>\n",
       "      <td>NaN</td>\n",
       "    </tr>\n",
       "    <tr>\n",
       "      <th>1</th>\n",
       "      <td>1</td>\n",
       "      <td>80e641a11e56f04c1ad469d5645fdfde</td>\n",
       "      <td>a548910a1c6147796b98fdf73dbeba33</td>\n",
       "      <td>5</td>\n",
       "      <td>NaN</td>\n",
       "      <td>NaN</td>\n",
       "      <td>2018-03-10 00:00:00</td>\n",
       "      <td>2018-03-11 03:05:13</td>\n",
       "      <td>NaN</td>\n",
       "    </tr>\n",
       "    <tr>\n",
       "      <th>2</th>\n",
       "      <td>2</td>\n",
       "      <td>228ce5500dc1d8e020d8d1322874b6f0</td>\n",
       "      <td>f9e4b658b201a9f2ecdecbb34bed034b</td>\n",
       "      <td>5</td>\n",
       "      <td>NaN</td>\n",
       "      <td>NaN</td>\n",
       "      <td>2018-02-17 00:00:00</td>\n",
       "      <td>2018-02-18 14:36:24</td>\n",
       "      <td>NaN</td>\n",
       "    </tr>\n",
       "    <tr>\n",
       "      <th>3</th>\n",
       "      <td>3</td>\n",
       "      <td>e64fb393e7b32834bb789ff8bb30750e</td>\n",
       "      <td>658677c97b385a9be170737859d3511b</td>\n",
       "      <td>5</td>\n",
       "      <td>NaN</td>\n",
       "      <td>Recebi bem antes do prazo estipulado.</td>\n",
       "      <td>2017-04-21 00:00:00</td>\n",
       "      <td>2017-04-21 22:02:06</td>\n",
       "      <td>I received it well before the stipulated deadl...</td>\n",
       "    </tr>\n",
       "    <tr>\n",
       "      <th>4</th>\n",
       "      <td>4</td>\n",
       "      <td>f7c4243c7fe1938f181bec41a392bdeb</td>\n",
       "      <td>8e6bfb81e283fa7e4f11123a3fb894f1</td>\n",
       "      <td>5</td>\n",
       "      <td>NaN</td>\n",
       "      <td>Parabéns lojas lannister adorei comprar pela I...</td>\n",
       "      <td>2018-03-01 00:00:00</td>\n",
       "      <td>2018-03-02 10:26:53</td>\n",
       "      <td>Congratulations lannister stores I loved shopp...</td>\n",
       "    </tr>\n",
       "    <tr>\n",
       "      <th>...</th>\n",
       "      <td>...</td>\n",
       "      <td>...</td>\n",
       "      <td>...</td>\n",
       "      <td>...</td>\n",
       "      <td>...</td>\n",
       "      <td>...</td>\n",
       "      <td>...</td>\n",
       "      <td>...</td>\n",
       "      <td>...</td>\n",
       "    </tr>\n",
       "    <tr>\n",
       "      <th>99219</th>\n",
       "      <td>99219</td>\n",
       "      <td>574ed12dd733e5fa530cfd4bbf39d7c9</td>\n",
       "      <td>2a8c23fee101d4d5662fa670396eb8da</td>\n",
       "      <td>5</td>\n",
       "      <td>NaN</td>\n",
       "      <td>NaN</td>\n",
       "      <td>2018-07-07 00:00:00</td>\n",
       "      <td>2018-07-14 17:18:30</td>\n",
       "      <td>NaN</td>\n",
       "    </tr>\n",
       "    <tr>\n",
       "      <th>99220</th>\n",
       "      <td>99220</td>\n",
       "      <td>f3897127253a9592a73be9bdfdf4ed7a</td>\n",
       "      <td>22ec9f0669f784db00fa86d035cf8602</td>\n",
       "      <td>5</td>\n",
       "      <td>NaN</td>\n",
       "      <td>NaN</td>\n",
       "      <td>2017-12-09 00:00:00</td>\n",
       "      <td>2017-12-11 20:06:42</td>\n",
       "      <td>NaN</td>\n",
       "    </tr>\n",
       "    <tr>\n",
       "      <th>99221</th>\n",
       "      <td>99221</td>\n",
       "      <td>b3de70c89b1510c4cd3d0649fd302472</td>\n",
       "      <td>55d4004744368f5571d1f590031933e4</td>\n",
       "      <td>5</td>\n",
       "      <td>NaN</td>\n",
       "      <td>Excelente mochila, entrega super rápida. Super...</td>\n",
       "      <td>2018-03-22 00:00:00</td>\n",
       "      <td>2018-03-23 09:10:43</td>\n",
       "      <td>Excellent backpack, super fast delivery. I hig...</td>\n",
       "    </tr>\n",
       "    <tr>\n",
       "      <th>99222</th>\n",
       "      <td>99222</td>\n",
       "      <td>1adeb9d84d72fe4e337617733eb85149</td>\n",
       "      <td>7725825d039fc1f0ceb7635e3f7d9206</td>\n",
       "      <td>4</td>\n",
       "      <td>NaN</td>\n",
       "      <td>NaN</td>\n",
       "      <td>2018-07-01 00:00:00</td>\n",
       "      <td>2018-07-02 12:59:13</td>\n",
       "      <td>NaN</td>\n",
       "    </tr>\n",
       "    <tr>\n",
       "      <th>99223</th>\n",
       "      <td>99223</td>\n",
       "      <td>efe49f1d6f951dd88b51e6ccd4cc548f</td>\n",
       "      <td>90531360ecb1eec2a1fbb265a0db0508</td>\n",
       "      <td>1</td>\n",
       "      <td>NaN</td>\n",
       "      <td>meu produto chegou e ja tenho que devolver, po...</td>\n",
       "      <td>2017-07-03 00:00:00</td>\n",
       "      <td>2017-07-03 21:01:49</td>\n",
       "      <td>My product arrived and I already have to retur...</td>\n",
       "    </tr>\n",
       "  </tbody>\n",
       "</table>\n",
       "<p>99224 rows × 9 columns</p>\n",
       "</div>\n",
       "    <div class=\"colab-df-buttons\">\n",
       "\n",
       "  <div class=\"colab-df-container\">\n",
       "    <button class=\"colab-df-convert\" onclick=\"convertToInteractive('df-26cd3714-d6c4-4c84-a86f-802483adf681')\"\n",
       "            title=\"Convert this dataframe to an interactive table.\"\n",
       "            style=\"display:none;\">\n",
       "\n",
       "  <svg xmlns=\"http://www.w3.org/2000/svg\" height=\"24px\" viewBox=\"0 -960 960 960\">\n",
       "    <path d=\"M120-120v-720h720v720H120Zm60-500h600v-160H180v160Zm220 220h160v-160H400v160Zm0 220h160v-160H400v160ZM180-400h160v-160H180v160Zm440 0h160v-160H620v160ZM180-180h160v-160H180v160Zm440 0h160v-160H620v160Z\"/>\n",
       "  </svg>\n",
       "    </button>\n",
       "\n",
       "  <style>\n",
       "    .colab-df-container {\n",
       "      display:flex;\n",
       "      gap: 12px;\n",
       "    }\n",
       "\n",
       "    .colab-df-convert {\n",
       "      background-color: #E8F0FE;\n",
       "      border: none;\n",
       "      border-radius: 50%;\n",
       "      cursor: pointer;\n",
       "      display: none;\n",
       "      fill: #1967D2;\n",
       "      height: 32px;\n",
       "      padding: 0 0 0 0;\n",
       "      width: 32px;\n",
       "    }\n",
       "\n",
       "    .colab-df-convert:hover {\n",
       "      background-color: #E2EBFA;\n",
       "      box-shadow: 0px 1px 2px rgba(60, 64, 67, 0.3), 0px 1px 3px 1px rgba(60, 64, 67, 0.15);\n",
       "      fill: #174EA6;\n",
       "    }\n",
       "\n",
       "    .colab-df-buttons div {\n",
       "      margin-bottom: 4px;\n",
       "    }\n",
       "\n",
       "    [theme=dark] .colab-df-convert {\n",
       "      background-color: #3B4455;\n",
       "      fill: #D2E3FC;\n",
       "    }\n",
       "\n",
       "    [theme=dark] .colab-df-convert:hover {\n",
       "      background-color: #434B5C;\n",
       "      box-shadow: 0px 1px 3px 1px rgba(0, 0, 0, 0.15);\n",
       "      filter: drop-shadow(0px 1px 2px rgba(0, 0, 0, 0.3));\n",
       "      fill: #FFFFFF;\n",
       "    }\n",
       "  </style>\n",
       "\n",
       "    <script>\n",
       "      const buttonEl =\n",
       "        document.querySelector('#df-26cd3714-d6c4-4c84-a86f-802483adf681 button.colab-df-convert');\n",
       "      buttonEl.style.display =\n",
       "        google.colab.kernel.accessAllowed ? 'block' : 'none';\n",
       "\n",
       "      async function convertToInteractive(key) {\n",
       "        const element = document.querySelector('#df-26cd3714-d6c4-4c84-a86f-802483adf681');\n",
       "        const dataTable =\n",
       "          await google.colab.kernel.invokeFunction('convertToInteractive',\n",
       "                                                    [key], {});\n",
       "        if (!dataTable) return;\n",
       "\n",
       "        const docLinkHtml = 'Like what you see? Visit the ' +\n",
       "          '<a target=\"_blank\" href=https://colab.research.google.com/notebooks/data_table.ipynb>data table notebook</a>'\n",
       "          + ' to learn more about interactive tables.';\n",
       "        element.innerHTML = '';\n",
       "        dataTable['output_type'] = 'display_data';\n",
       "        await google.colab.output.renderOutput(dataTable, element);\n",
       "        const docLink = document.createElement('div');\n",
       "        docLink.innerHTML = docLinkHtml;\n",
       "        element.appendChild(docLink);\n",
       "      }\n",
       "    </script>\n",
       "  </div>\n",
       "\n",
       "\n",
       "<div id=\"df-a14c0b33-2cdd-4999-8940-3b3c51d13981\">\n",
       "  <button class=\"colab-df-quickchart\" onclick=\"quickchart('df-a14c0b33-2cdd-4999-8940-3b3c51d13981')\"\n",
       "            title=\"Suggest charts.\"\n",
       "            style=\"display:none;\">\n",
       "\n",
       "<svg xmlns=\"http://www.w3.org/2000/svg\" height=\"24px\"viewBox=\"0 0 24 24\"\n",
       "     width=\"24px\">\n",
       "    <g>\n",
       "        <path d=\"M19 3H5c-1.1 0-2 .9-2 2v14c0 1.1.9 2 2 2h14c1.1 0 2-.9 2-2V5c0-1.1-.9-2-2-2zM9 17H7v-7h2v7zm4 0h-2V7h2v10zm4 0h-2v-4h2v4z\"/>\n",
       "    </g>\n",
       "</svg>\n",
       "  </button>\n",
       "\n",
       "<style>\n",
       "  .colab-df-quickchart {\n",
       "      --bg-color: #E8F0FE;\n",
       "      --fill-color: #1967D2;\n",
       "      --hover-bg-color: #E2EBFA;\n",
       "      --hover-fill-color: #174EA6;\n",
       "      --disabled-fill-color: #AAA;\n",
       "      --disabled-bg-color: #DDD;\n",
       "  }\n",
       "\n",
       "  [theme=dark] .colab-df-quickchart {\n",
       "      --bg-color: #3B4455;\n",
       "      --fill-color: #D2E3FC;\n",
       "      --hover-bg-color: #434B5C;\n",
       "      --hover-fill-color: #FFFFFF;\n",
       "      --disabled-bg-color: #3B4455;\n",
       "      --disabled-fill-color: #666;\n",
       "  }\n",
       "\n",
       "  .colab-df-quickchart {\n",
       "    background-color: var(--bg-color);\n",
       "    border: none;\n",
       "    border-radius: 50%;\n",
       "    cursor: pointer;\n",
       "    display: none;\n",
       "    fill: var(--fill-color);\n",
       "    height: 32px;\n",
       "    padding: 0;\n",
       "    width: 32px;\n",
       "  }\n",
       "\n",
       "  .colab-df-quickchart:hover {\n",
       "    background-color: var(--hover-bg-color);\n",
       "    box-shadow: 0 1px 2px rgba(60, 64, 67, 0.3), 0 1px 3px 1px rgba(60, 64, 67, 0.15);\n",
       "    fill: var(--button-hover-fill-color);\n",
       "  }\n",
       "\n",
       "  .colab-df-quickchart-complete:disabled,\n",
       "  .colab-df-quickchart-complete:disabled:hover {\n",
       "    background-color: var(--disabled-bg-color);\n",
       "    fill: var(--disabled-fill-color);\n",
       "    box-shadow: none;\n",
       "  }\n",
       "\n",
       "  .colab-df-spinner {\n",
       "    border: 2px solid var(--fill-color);\n",
       "    border-color: transparent;\n",
       "    border-bottom-color: var(--fill-color);\n",
       "    animation:\n",
       "      spin 1s steps(1) infinite;\n",
       "  }\n",
       "\n",
       "  @keyframes spin {\n",
       "    0% {\n",
       "      border-color: transparent;\n",
       "      border-bottom-color: var(--fill-color);\n",
       "      border-left-color: var(--fill-color);\n",
       "    }\n",
       "    20% {\n",
       "      border-color: transparent;\n",
       "      border-left-color: var(--fill-color);\n",
       "      border-top-color: var(--fill-color);\n",
       "    }\n",
       "    30% {\n",
       "      border-color: transparent;\n",
       "      border-left-color: var(--fill-color);\n",
       "      border-top-color: var(--fill-color);\n",
       "      border-right-color: var(--fill-color);\n",
       "    }\n",
       "    40% {\n",
       "      border-color: transparent;\n",
       "      border-right-color: var(--fill-color);\n",
       "      border-top-color: var(--fill-color);\n",
       "    }\n",
       "    60% {\n",
       "      border-color: transparent;\n",
       "      border-right-color: var(--fill-color);\n",
       "    }\n",
       "    80% {\n",
       "      border-color: transparent;\n",
       "      border-right-color: var(--fill-color);\n",
       "      border-bottom-color: var(--fill-color);\n",
       "    }\n",
       "    90% {\n",
       "      border-color: transparent;\n",
       "      border-bottom-color: var(--fill-color);\n",
       "    }\n",
       "  }\n",
       "</style>\n",
       "\n",
       "  <script>\n",
       "    async function quickchart(key) {\n",
       "      const quickchartButtonEl =\n",
       "        document.querySelector('#' + key + ' button');\n",
       "      quickchartButtonEl.disabled = true;  // To prevent multiple clicks.\n",
       "      quickchartButtonEl.classList.add('colab-df-spinner');\n",
       "      try {\n",
       "        const charts = await google.colab.kernel.invokeFunction(\n",
       "            'suggestCharts', [key], {});\n",
       "      } catch (error) {\n",
       "        console.error('Error during call to suggestCharts:', error);\n",
       "      }\n",
       "      quickchartButtonEl.classList.remove('colab-df-spinner');\n",
       "      quickchartButtonEl.classList.add('colab-df-quickchart-complete');\n",
       "    }\n",
       "    (() => {\n",
       "      let quickchartButtonEl =\n",
       "        document.querySelector('#df-a14c0b33-2cdd-4999-8940-3b3c51d13981 button');\n",
       "      quickchartButtonEl.style.display =\n",
       "        google.colab.kernel.accessAllowed ? 'block' : 'none';\n",
       "    })();\n",
       "  </script>\n",
       "</div>\n",
       "    </div>\n",
       "  </div>\n"
      ],
      "text/plain": [
       "       Unnamed: 0                         review_id  \\\n",
       "0               0  7bc2406110b926393aa56f80a40eba40   \n",
       "1               1  80e641a11e56f04c1ad469d5645fdfde   \n",
       "2               2  228ce5500dc1d8e020d8d1322874b6f0   \n",
       "3               3  e64fb393e7b32834bb789ff8bb30750e   \n",
       "4               4  f7c4243c7fe1938f181bec41a392bdeb   \n",
       "...           ...                               ...   \n",
       "99219       99219  574ed12dd733e5fa530cfd4bbf39d7c9   \n",
       "99220       99220  f3897127253a9592a73be9bdfdf4ed7a   \n",
       "99221       99221  b3de70c89b1510c4cd3d0649fd302472   \n",
       "99222       99222  1adeb9d84d72fe4e337617733eb85149   \n",
       "99223       99223  efe49f1d6f951dd88b51e6ccd4cc548f   \n",
       "\n",
       "                               order_id  review_score review_comment_title  \\\n",
       "0      73fc7af87114b39712e6da79b0a377eb             4                  NaN   \n",
       "1      a548910a1c6147796b98fdf73dbeba33             5                  NaN   \n",
       "2      f9e4b658b201a9f2ecdecbb34bed034b             5                  NaN   \n",
       "3      658677c97b385a9be170737859d3511b             5                  NaN   \n",
       "4      8e6bfb81e283fa7e4f11123a3fb894f1             5                  NaN   \n",
       "...                                 ...           ...                  ...   \n",
       "99219  2a8c23fee101d4d5662fa670396eb8da             5                  NaN   \n",
       "99220  22ec9f0669f784db00fa86d035cf8602             5                  NaN   \n",
       "99221  55d4004744368f5571d1f590031933e4             5                  NaN   \n",
       "99222  7725825d039fc1f0ceb7635e3f7d9206             4                  NaN   \n",
       "99223  90531360ecb1eec2a1fbb265a0db0508             1                  NaN   \n",
       "\n",
       "                                  review_comment_message review_creation_date  \\\n",
       "0                                                    NaN  2018-01-18 00:00:00   \n",
       "1                                                    NaN  2018-03-10 00:00:00   \n",
       "2                                                    NaN  2018-02-17 00:00:00   \n",
       "3                  Recebi bem antes do prazo estipulado.  2017-04-21 00:00:00   \n",
       "4      Parabéns lojas lannister adorei comprar pela I...  2018-03-01 00:00:00   \n",
       "...                                                  ...                  ...   \n",
       "99219                                                NaN  2018-07-07 00:00:00   \n",
       "99220                                                NaN  2017-12-09 00:00:00   \n",
       "99221  Excelente mochila, entrega super rápida. Super...  2018-03-22 00:00:00   \n",
       "99222                                                NaN  2018-07-01 00:00:00   \n",
       "99223  meu produto chegou e ja tenho que devolver, po...  2017-07-03 00:00:00   \n",
       "\n",
       "      review_answer_timestamp  \\\n",
       "0         2018-01-18 21:46:59   \n",
       "1         2018-03-11 03:05:13   \n",
       "2         2018-02-18 14:36:24   \n",
       "3         2017-04-21 22:02:06   \n",
       "4         2018-03-02 10:26:53   \n",
       "...                       ...   \n",
       "99219     2018-07-14 17:18:30   \n",
       "99220     2017-12-11 20:06:42   \n",
       "99221     2018-03-23 09:10:43   \n",
       "99222     2018-07-02 12:59:13   \n",
       "99223     2017-07-03 21:01:49   \n",
       "\n",
       "                                       translated_review  \n",
       "0                                                    NaN  \n",
       "1                                                    NaN  \n",
       "2                                                    NaN  \n",
       "3      I received it well before the stipulated deadl...  \n",
       "4      Congratulations lannister stores I loved shopp...  \n",
       "...                                                  ...  \n",
       "99219                                                NaN  \n",
       "99220                                                NaN  \n",
       "99221  Excellent backpack, super fast delivery. I hig...  \n",
       "99222                                                NaN  \n",
       "99223  My product arrived and I already have to retur...  \n",
       "\n",
       "[99224 rows x 9 columns]"
      ]
     },
     "execution_count": 3,
     "metadata": {},
     "output_type": "execute_result"
    }
   ],
   "source": [
    "# Displaying the dataframe\n",
    "df"
   ]
  },
  {
   "cell_type": "code",
   "execution_count": null,
   "metadata": {
    "id": "X6h5AsfEZR48"
   },
   "outputs": [],
   "source": [
    "# Classifying the reviews by the review scores\n",
    "df.loc[df['review_score'] > 3, 'Sentiment'] = 'Good'\n",
    "df.loc[df['review_score'] == 3, 'Sentiment'] = 'Neutral'\n",
    "df.loc[df['review_score'] < 3, 'Sentiment'] = 'Bad'"
   ]
  },
  {
   "cell_type": "markdown",
   "metadata": {
    "id": "_5off7mIgWJb"
   },
   "source": [
    "df['translated_review'] = df['translated_review'].str.lower()"
   ]
  },
  {
   "cell_type": "markdown",
   "metadata": {
    "id": "O5B8Bc8uuu5o"
   },
   "source": [
    "## Good Sentiments"
   ]
  },
  {
   "cell_type": "code",
   "execution_count": 29,
   "metadata": {
    "id": "GbN4aijViV1R"
   },
   "outputs": [],
   "source": [
    "# Taking only the 'Positive' or 'good' reviews to a list and cleaning all null values\n",
    "x = df.query(\"Sentiment=='Good'\")[\"translated_review\"].tolist()\n",
    "cleanedList_good = [y for y in x if str(y) != 'nan']"
   ]
  },
  {
   "cell_type": "code",
   "execution_count": 30,
   "metadata": {
    "id": "HbkjTmDqk1oK"
   },
   "outputs": [],
   "source": [
    "# Splitting the sentences into individual words # \n",
    "word_list_good = [word for sent in cleanedList_good for word in sent.split()]"
   ]
  },
  {
   "cell_type": "code",
   "execution_count": 31,
   "metadata": {
    "id": "GKS60EZ5s7CU"
   },
   "outputs": [],
   "source": [
    "# Using the n-grams technique from NLTK package and saving them to a variable\n",
    "grams_good = ngrams(word_list_good, 7)"
   ]
  },
  {
   "cell_type": "code",
   "execution_count": 32,
   "metadata": {
    "id": "SlR0IbFptHdQ"
   },
   "outputs": [],
   "source": [
    "# Counting the number of appearances of all the n-grams and saving it to a variable. The variable is now an objects of type 'collections.counter' belonging to the NLTK family\n",
    "gramFreq_good = collections.Counter(grams_good)"
   ]
  },
  {
   "cell_type": "code",
   "execution_count": 33,
   "metadata": {
    "id": "FiSXEiHqtKzU"
   },
   "outputs": [],
   "source": [
    "# Assigning the top 10 most frequently appeared n grams to a variable 'c'\n",
    "c = gramFreq_good.most_common(10)"
   ]
  },
  {
   "cell_type": "code",
   "execution_count": 34,
   "metadata": {
    "colab": {
     "base_uri": "https://localhost:8080/"
    },
    "id": "lxOyPqsDKCx2",
    "outputId": "96431ebe-06b0-4b2a-d291-2b21422aef1c"
   },
   "outputs": [
    {
     "name": "stdout",
     "output_type": "stream",
     "text": [
      "Dictionary data has been saved to counter_data.csv\n"
     ]
    }
   ],
   "source": [
    "# Converting the collections.counter object to a dictionary and then saving it to a csv file\n",
    "formatted_data = [[tuple_str, count] for tuple_str, count in c]\n",
    "dict = {}\n",
    "char = ''\n",
    "for list in formatted_data:\n",
    "  for word in list[0]:\n",
    "    char+= word + ' '\n",
    "  dict[char] = list[1], 'Positive'\n",
    "  char = ''\n",
    "csv_file_path = 'counter_data.csv'\n",
    "\n",
    "# Open the CSV file in write mode\n",
    "with open(csv_file_path, 'w') as csvfile:\n",
    "    # Write the header row\n",
    "    csvfile.write('Item,Count\\n')\n",
    "\n",
    "    # Write the data from the dictionary\n",
    "    for item, count in dict.items():\n",
    "        csvfile.write(f'{item},{count}\\n')\n",
    "\n",
    "print(f'Dictionary data has been saved to {csv_file_path}')"
   ]
  },
  {
   "cell_type": "code",
   "execution_count": 35,
   "metadata": {
    "colab": {
     "base_uri": "https://localhost:8080/"
    },
    "id": "9o_6H5hrve1Y",
    "outputId": "c2f3bdc5-98c3-4f09-8df5-98c1499c70b3"
   },
   "outputs": [
    {
     "data": {
      "text/plain": [
       "the          16706\n",
       "i            14165\n",
       "and           8036\n",
       "it            7655\n",
       "product       7569\n",
       "very          5992\n",
       "of            4370\n",
       "arrived       4343\n",
       "was           4096\n",
       "to            3716\n",
       "good          3505\n",
       "recommend     3436\n",
       "on            3398\n",
       "delivery      3182\n",
       "is            3077\n",
       "great         2755\n",
       "delivered     2713\n",
       "in            2606\n",
       "a             2569\n",
       "ahead         2549\n",
       "dtype: int64"
      ]
     },
     "execution_count": 35,
     "metadata": {},
     "output_type": "execute_result"
    }
   ],
   "source": [
    "# Displaying the most commonly appeared words in 'Positive' reviews\n",
    "pd.value_counts(np.array(word_list_good)).head(20)"
   ]
  },
  {
   "cell_type": "markdown",
   "metadata": {
    "id": "8lpJvg1NyBU7"
   },
   "source": [
    "## Neutral Condition"
   ]
  },
  {
   "cell_type": "code",
   "execution_count": 36,
   "metadata": {
    "id": "Jv25kL20yAF9"
   },
   "outputs": [],
   "source": [
    "# Taking only the 'Neutral' reviews to a list and cleaning all null values\n",
    "x = df.query(\"Sentiment=='Neutral'\")[\"translated_review\"].tolist()\n",
    "cleaned_List_neutral = [y for y in x if str(y) != 'nan']"
   ]
  },
  {
   "cell_type": "code",
   "execution_count": 37,
   "metadata": {
    "id": "u9hpd5uwzAe7"
   },
   "outputs": [],
   "source": [
    "# Splitting the sentences into individual words # \n",
    "word_list_neutral = [word for sent in cleaned_List_neutral for word in sent.split()]"
   ]
  },
  {
   "cell_type": "code",
   "execution_count": 38,
   "metadata": {
    "id": "qNj_AKUczLoq"
   },
   "outputs": [],
   "source": [
    "# Using the n-grams technique from NLTK package and saving them to a variable\n",
    "grams_neutral = ngrams(word_list_neutral, 7)"
   ]
  },
  {
   "cell_type": "code",
   "execution_count": 39,
   "metadata": {
    "id": "qfjtKM9zzaHs"
   },
   "outputs": [],
   "source": [
    "# Counting the number of appearances of all the n-grams and saving it to a variable. The variable is now an objects of type 'collections.counter' belonging to the NLTK family\n",
    "gramFreq_neutral = collections.Counter(grams_neutral)"
   ]
  },
  {
   "cell_type": "code",
   "execution_count": 40,
   "metadata": {
    "id": "LrHsxKejzmHf"
   },
   "outputs": [],
   "source": [
    "# Assigning the top 10 most frequently appeared n grams to a variable 'c'\n",
    "c = gramFreq_neutral.most_common(10)"
   ]
  },
  {
   "cell_type": "code",
   "execution_count": 41,
   "metadata": {
    "colab": {
     "base_uri": "https://localhost:8080/"
    },
    "id": "dur4NITHKaiD",
    "outputId": "a2f9da12-6c12-4850-b9a2-b2af4050de58"
   },
   "outputs": [
    {
     "name": "stdout",
     "output_type": "stream",
     "text": [
      "Dictionary data has been saved to counter_data.csv\n"
     ]
    }
   ],
   "source": [
    "# Converting the collections.counter object to a dictionary and then saving it to a csv file\n",
    "formatted_data = [[tuple_str, count] for tuple_str, count in c]\n",
    "dict = {}\n",
    "char = ''\n",
    "for list in formatted_data:\n",
    "  for word in list[0]:\n",
    "    char+= word + ' '\n",
    "  dict[char] = list[1], 'Neutral'\n",
    "  char = ''\n",
    "csv_file_path = 'counter_data.csv'\n",
    "\n",
    "# Open the CSV file in write mode\n",
    "with open(csv_file_path, 'a', newline='') as csvfile:\n",
    "    # Write the header row\n",
    "    csvfile.write('Item,Count\\n')\n",
    "\n",
    "    # Write the data from the dictionary\n",
    "    for item, count in dict.items():\n",
    "        csvfile.write(f'{item},{count}\\n')\n",
    "\n",
    "print(f'Dictionary data has been saved to {csv_file_path}')"
   ]
  },
  {
   "cell_type": "code",
   "execution_count": 42,
   "metadata": {
    "colab": {
     "base_uri": "https://localhost:8080/"
    },
    "id": "I1FCa6GCzy0e",
    "outputId": "c248620a-05a8-4b84-f950-36b8687d5c14"
   },
   "outputs": [
    {
     "data": {
      "text/plain": [
       "the         4953\n",
       "i           2849\n",
       "it          1780\n",
       "and         1325\n",
       "to          1282\n",
       "product     1224\n",
       "was         1084\n",
       "a           1051\n",
       "but          980\n",
       "is           858\n",
       "of           697\n",
       "not          685\n",
       "in           666\n",
       "for          540\n",
       "received     522\n",
       "on           514\n",
       "with         505\n",
       "very         458\n",
       "that         409\n",
       "only         400\n",
       "dtype: int64"
      ]
     },
     "execution_count": 42,
     "metadata": {},
     "output_type": "execute_result"
    }
   ],
   "source": [
    "# Displaying the most commonly appeared words in 'Neutral' reviews\n",
    "pd.value_counts(np.array(word_list_neutral)).head(20)"
   ]
  },
  {
   "cell_type": "markdown",
   "metadata": {
    "id": "md1aZMae0NRQ"
   },
   "source": [
    "## Negative Condition"
   ]
  },
  {
   "cell_type": "code",
   "execution_count": 43,
   "metadata": {
    "id": "r22WSeVnz77b"
   },
   "outputs": [],
   "source": [
    "# Taking only the 'Negative' or 'Bad' reviews to a list and cleaning all null values\n",
    "x = df.query(\"Sentiment=='Bad'\")[\"translated_review\"].tolist()\n",
    "cleaned_List_bad = [y for y in x if str(y) != 'nan']"
   ]
  },
  {
   "cell_type": "code",
   "execution_count": 44,
   "metadata": {
    "id": "CeaxCNBv0VKz"
   },
   "outputs": [],
   "source": [
    "# Splitting the sentences into individual words # \n",
    "word_list_bad = [word for sent in cleaned_List_bad for word in sent.split()]"
   ]
  },
  {
   "cell_type": "code",
   "execution_count": 45,
   "metadata": {
    "id": "1_PHt38X0Zxv"
   },
   "outputs": [],
   "source": [
    "# Using the n-grams technique from NLTK package and saving them to a variable\n",
    "grams_bad = ngrams(word_list_bad, 7)"
   ]
  },
  {
   "cell_type": "code",
   "execution_count": 46,
   "metadata": {
    "id": "CSSc38cw0csg"
   },
   "outputs": [],
   "source": [
    "# Counting the number of appearances of all the n-grams and saving it to a variable. The variable is now an objects of type 'collections.counter' belonging to the NLTK family\n",
    "gramFreq_bad = collections.Counter(grams_bad)"
   ]
  },
  {
   "cell_type": "code",
   "execution_count": 47,
   "metadata": {
    "id": "BtZ0Lll20fwR"
   },
   "outputs": [],
   "source": [
    "# Assigning the top 10 most frequently appeared n grams to a variable 'c'\n",
    "c = gramFreq_bad.most_common(10)"
   ]
  },
  {
   "cell_type": "code",
   "execution_count": 48,
   "metadata": {
    "colab": {
     "base_uri": "https://localhost:8080/"
    },
    "id": "h9r103DOKjCP",
    "outputId": "37d9f75b-eb6e-4b50-c06b-99b67b061c61"
   },
   "outputs": [
    {
     "name": "stdout",
     "output_type": "stream",
     "text": [
      "Dictionary data has been saved to counter_data.csv\n"
     ]
    }
   ],
   "source": [
    "# Converting the collections.counter object to a dictionary and then saving it to a csv file\n",
    "formatted_data = [[tuple_str, count] for tuple_str, count in c]\n",
    "dict = {}\n",
    "char = ''\n",
    "for list in formatted_data:\n",
    "  for word in list[0]:\n",
    "    char+= word + ' '\n",
    "  dict[char] = list[1], 'Negative'\n",
    "  char = ''\n",
    "csv_file_path = 'counter_data.csv'\n",
    "\n",
    "# Open the CSV file in write mode\n",
    "with open(csv_file_path, 'a', newline='') as csvfile:\n",
    "    # Write the header row\n",
    "    csvfile.write('Item,Count\\n')\n",
    "\n",
    "    # Write the data from the dictionary\n",
    "    for item, count in dict.items():\n",
    "        csvfile.write(f'{item},{count}\\n')\n",
    "\n",
    "print(f'Dictionary data has been saved to {csv_file_path}')"
   ]
  },
  {
   "cell_type": "code",
   "execution_count": 49,
   "metadata": {
    "colab": {
     "base_uri": "https://localhost:8080/"
    },
    "id": "8lHE_zoo1Eos",
    "outputId": "af756a9f-9c8d-4ff8-f2e0-68044e23cb13"
   },
   "outputs": [
    {
     "data": {
      "text/plain": [
       "the         16062\n",
       "i           12519\n",
       "and          6662\n",
       "to           4959\n",
       "product      4789\n",
       "it           4685\n",
       "a            4174\n",
       "not          4112\n",
       "was          3341\n",
       "received     2788\n",
       "of           2409\n",
       "for          2362\n",
       "is           2329\n",
       "my           2137\n",
       "in           2004\n",
       "they         1668\n",
       "bought       1631\n",
       "but          1613\n",
       "have         1604\n",
       "on           1588\n",
       "dtype: int64"
      ]
     },
     "execution_count": 49,
     "metadata": {},
     "output_type": "execute_result"
    }
   ],
   "source": [
    "# Displaying the most commonly appeared words in 'Negative' reviews\n",
    "pd.value_counts(np.array(word_list_bad)).head(20)"
   ]
  }
 ],
 "metadata": {
  "colab": {
   "provenance": []
  },
  "kernelspec": {
   "display_name": "Python 3 (ipykernel)",
   "language": "python",
   "name": "python3"
  },
  "language_info": {
   "codemirror_mode": {
    "name": "ipython",
    "version": 3
   },
   "file_extension": ".py",
   "mimetype": "text/x-python",
   "name": "python",
   "nbconvert_exporter": "python",
   "pygments_lexer": "ipython3",
   "version": "3.8.17"
  }
 },
 "nbformat": 4,
 "nbformat_minor": 1
}
